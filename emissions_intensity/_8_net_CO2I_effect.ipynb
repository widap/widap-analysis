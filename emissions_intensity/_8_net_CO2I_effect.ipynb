{
 "cells": [
  {
   "cell_type": "markdown",
   "metadata": {},
   "source": [
    "# Net EI impact of variance changes"
   ]
  },
  {
   "cell_type": "markdown",
   "metadata": {},
   "source": [
    "This script joins data on the CO2 intensity of each unit and that unit's total generation over the baseline periods. Then, it calculates the change in emissions resulting from the different average capacity factors.\n",
    "\n",
    "This answers the following question: \n",
    "\n",
    "> What would emissions have been from 2015 to 2017 if fossil-fired power plants still generated the way they did from 2006 to 2008?"
   ]
  },
  {
   "cell_type": "code",
   "execution_count": 60,
   "metadata": {},
   "outputs": [],
   "source": [
    "import numpy as np\n",
    "import pandas as pd\n",
    "import matplotlib.pyplot as plt"
   ]
  },
  {
   "cell_type": "markdown",
   "metadata": {},
   "source": [
    "##### Join emssions intensity and summed generation"
   ]
  },
  {
   "cell_type": "markdown",
   "metadata": {},
   "source": [
    "Read in data"
   ]
  },
  {
   "cell_type": "code",
   "execution_count": 22,
   "metadata": {},
   "outputs": [],
   "source": [
    "CO2I = pd.read_csv('CO2I_change_LOWESS.csv')\n",
    "gen = pd.read_csv('sumGen.csv')"
   ]
  },
  {
   "cell_type": "markdown",
   "metadata": {},
   "source": [
    "How many plants have both before and after components? Have to drop those that don't"
   ]
  },
  {
   "cell_type": "code",
   "execution_count": 23,
   "metadata": {},
   "outputs": [
    {
     "data": {
      "text/plain": [
       "(470, 4)"
      ]
     },
     "execution_count": 23,
     "metadata": {},
     "output_type": "execute_result"
    }
   ],
   "source": [
    "gen_full = gen.dropna()\n",
    "gen_full.shape"
   ]
  },
  {
   "cell_type": "code",
   "execution_count": 24,
   "metadata": {},
   "outputs": [
    {
     "data": {
      "text/plain": [
       "(468, 4)"
      ]
     },
     "execution_count": 24,
     "metadata": {},
     "output_type": "execute_result"
    }
   ],
   "source": [
    "CO2I_full = CO2I.dropna()\n",
    "CO2I_full.shape"
   ]
  },
  {
   "cell_type": "code",
   "execution_count": 25,
   "metadata": {},
   "outputs": [],
   "source": [
    "joined = CO2I.merge(gen, how='left', left_on=['ORISPL_CODE', 'UNITID'], right_on=['ORISPL_CODE', 'UNITID'])"
   ]
  },
  {
   "cell_type": "code",
   "execution_count": 26,
   "metadata": {},
   "outputs": [
    {
     "data": {
      "text/html": [
       "<div>\n",
       "<style scoped>\n",
       "    .dataframe tbody tr th:only-of-type {\n",
       "        vertical-align: middle;\n",
       "    }\n",
       "\n",
       "    .dataframe tbody tr th {\n",
       "        vertical-align: top;\n",
       "    }\n",
       "\n",
       "    .dataframe thead th {\n",
       "        text-align: right;\n",
       "    }\n",
       "</style>\n",
       "<table border=\"1\" class=\"dataframe\">\n",
       "  <thead>\n",
       "    <tr style=\"text-align: right;\">\n",
       "      <th></th>\n",
       "      <th>ORISPL_CODE</th>\n",
       "      <th>UNITID</th>\n",
       "      <th>CO2I_06_08</th>\n",
       "      <th>CO2I_15_17</th>\n",
       "      <th>gen_06_08</th>\n",
       "      <th>gen_15_17</th>\n",
       "    </tr>\n",
       "  </thead>\n",
       "  <tbody>\n",
       "    <tr>\n",
       "      <th>0</th>\n",
       "      <td>87</td>\n",
       "      <td>1</td>\n",
       "      <td>1.037074</td>\n",
       "      <td>1.073461</td>\n",
       "      <td>5398410.18</td>\n",
       "      <td>3656639.48</td>\n",
       "    </tr>\n",
       "    <tr>\n",
       "      <th>1</th>\n",
       "      <td>113</td>\n",
       "      <td>1</td>\n",
       "      <td>1.122126</td>\n",
       "      <td>1.140871</td>\n",
       "      <td>2765392.93</td>\n",
       "      <td>1143207.63</td>\n",
       "    </tr>\n",
       "    <tr>\n",
       "      <th>2</th>\n",
       "      <td>113</td>\n",
       "      <td>2</td>\n",
       "      <td>1.101016</td>\n",
       "      <td>1.089972</td>\n",
       "      <td>6683196.25</td>\n",
       "      <td>1210852.47</td>\n",
       "    </tr>\n",
       "    <tr>\n",
       "      <th>3</th>\n",
       "      <td>113</td>\n",
       "      <td>3</td>\n",
       "      <td>1.111009</td>\n",
       "      <td>1.118695</td>\n",
       "      <td>6785225.42</td>\n",
       "      <td>3096860.17</td>\n",
       "    </tr>\n",
       "    <tr>\n",
       "      <th>4</th>\n",
       "      <td>113</td>\n",
       "      <td>4</td>\n",
       "      <td>1.063945</td>\n",
       "      <td>1.072063</td>\n",
       "      <td>8938559.84</td>\n",
       "      <td>6122842.37</td>\n",
       "    </tr>\n",
       "  </tbody>\n",
       "</table>\n",
       "</div>"
      ],
      "text/plain": [
       "   ORISPL_CODE UNITID  CO2I_06_08  CO2I_15_17   gen_06_08   gen_15_17\n",
       "0           87      1    1.037074    1.073461  5398410.18  3656639.48\n",
       "1          113      1    1.122126    1.140871  2765392.93  1143207.63\n",
       "2          113      2    1.101016    1.089972  6683196.25  1210852.47\n",
       "3          113      3    1.111009    1.118695  6785225.42  3096860.17\n",
       "4          113      4    1.063945    1.072063  8938559.84  6122842.37"
      ]
     },
     "execution_count": 26,
     "metadata": {},
     "output_type": "execute_result"
    }
   ],
   "source": [
    "joined.head()"
   ]
  },
  {
   "cell_type": "markdown",
   "metadata": {},
   "source": [
    "Check for outliers"
   ]
  },
  {
   "cell_type": "code",
   "execution_count": 63,
   "metadata": {},
   "outputs": [
    {
     "data": {
      "image/png": "[encoded data removed]",
      "text/plain": [
       "<Figure size 432x288 with 1 Axes>"
      ]
     },
     "metadata": {
      "needs_background": "light"
     },
     "output_type": "display_data"
    }
   ],
   "source": [
    "plt.hist(joined['CO2_15_17_hypo'])\n",
    "plt.show()"
   ]
  },
  {
   "cell_type": "code",
   "execution_count": 62,
   "metadata": {},
   "outputs": [
    {
     "data": {
      "text/plain": [
       "262"
      ]
     },
     "execution_count": 62,
     "metadata": {},
     "output_type": "execute_result"
    }
   ],
   "source": [
    "joined['CO2_15_17_hypo'].idxmax()"
   ]
  },
  {
   "cell_type": "code",
   "execution_count": 58,
   "metadata": {},
   "outputs": [
    {
     "data": {
      "text/plain": [
       "ORISPL_CODE               10682\n",
       "UNITID                      GT2\n",
       "CO2I_06_08          2.08247e+13\n",
       "CO2I_15_17          2.08247e+13\n",
       "gen_06_08               15652.5\n",
       "gen_15_17               4193.41\n",
       "EI_diff                       0\n",
       "CO2_15_17_actual    8.73263e+16\n",
       "CO2_15_17_hypo      8.73263e+16\n",
       "Name: 262, dtype: object"
      ]
     },
     "execution_count": 58,
     "metadata": {},
     "output_type": "execute_result"
    }
   ],
   "source": [
    "joined.iloc[262,:]"
   ]
  },
  {
   "cell_type": "markdown",
   "metadata": {},
   "source": [
    "Clearly there is one huge outlier, resulting from wacky LOWESS fits. Let's drop that row."
   ]
  },
  {
   "cell_type": "code",
   "execution_count": 67,
   "metadata": {},
   "outputs": [],
   "source": [
    "joined.drop(joined['CO2_15_17_hypo'].idxmax(), axis=0, inplace=True)"
   ]
  },
  {
   "cell_type": "code",
   "execution_count": 68,
   "metadata": {},
   "outputs": [
    {
     "data": {
      "image/png": "[encoded data removed]",
      "text/plain": [
       "<Figure size 432x288 with 1 Axes>"
      ]
     },
     "metadata": {
      "needs_background": "light"
     },
     "output_type": "display_data"
    }
   ],
   "source": [
    "plt.hist(joined['CO2_15_17_hypo'])\n",
    "plt.show()"
   ]
  },
  {
   "cell_type": "markdown",
   "metadata": {},
   "source": [
    "It's much more reasonable that a plant could generate 1e6, or 0.1% of a GT in a year. Here's a quick calculation:"
   ]
  },
  {
   "cell_type": "code",
   "execution_count": 70,
   "metadata": {},
   "outputs": [
    {
     "data": {
      "text/plain": [
       "5124600.0"
      ]
     },
     "execution_count": 70,
     "metadata": {},
     "output_type": "execute_result"
    }
   ],
   "source": [
    "0.9*24*365*1.3*500  # (CF [])(hours/day)(days/year)(tonnes CO2/MWh)(MW capacity)"
   ]
  },
  {
   "cell_type": "markdown",
   "metadata": {},
   "source": [
    "Are there any other ridiculous CO2I estimates?"
   ]
  },
  {
   "cell_type": "code",
   "execution_count": 89,
   "metadata": {},
   "outputs": [
    {
     "data": {
      "text/plain": [
       "False"
      ]
     },
     "execution_count": 89,
     "metadata": {},
     "output_type": "execute_result"
    }
   ],
   "source": [
    "(joined['CO2I_15_17'] > 3).any()"
   ]
  },
  {
   "cell_type": "code",
   "execution_count": 94,
   "metadata": {},
   "outputs": [
    {
     "data": {
      "text/plain": [
       "True"
      ]
     },
     "execution_count": 94,
     "metadata": {},
     "output_type": "execute_result"
    }
   ],
   "source": [
    "(joined['CO2I_06_08'] > 3).any()"
   ]
  },
  {
   "cell_type": "markdown",
   "metadata": {},
   "source": [
    "Which?"
   ]
  },
  {
   "cell_type": "code",
   "execution_count": 96,
   "metadata": {},
   "outputs": [
    {
     "data": {
      "text/html": [
       "<div>\n",
       "<style scoped>\n",
       "    .dataframe tbody tr th:only-of-type {\n",
       "        vertical-align: middle;\n",
       "    }\n",
       "\n",
       "    .dataframe tbody tr th {\n",
       "        vertical-align: top;\n",
       "    }\n",
       "\n",
       "    .dataframe thead th {\n",
       "        text-align: right;\n",
       "    }\n",
       "</style>\n",
       "<table border=\"1\" class=\"dataframe\">\n",
       "  <thead>\n",
       "    <tr style=\"text-align: right;\">\n",
       "      <th></th>\n",
       "      <th>ORISPL_CODE</th>\n",
       "      <th>UNITID</th>\n",
       "      <th>CO2I_06_08</th>\n",
       "      <th>CO2I_15_17</th>\n",
       "      <th>gen_06_08</th>\n",
       "      <th>gen_15_17</th>\n",
       "      <th>EI_diff</th>\n",
       "      <th>CO2_15_17_actual</th>\n",
       "      <th>CO2_15_17_hypo</th>\n",
       "    </tr>\n",
       "  </thead>\n",
       "  <tbody>\n",
       "    <tr>\n",
       "      <th>67</th>\n",
       "      <td>399</td>\n",
       "      <td>**10B</td>\n",
       "      <td>5.404914</td>\n",
       "      <td>0.619678</td>\n",
       "      <td>321034.00</td>\n",
       "      <td>105513.54</td>\n",
       "      <td>-4.785236</td>\n",
       "      <td>65384.454851</td>\n",
       "      <td>570291.628315</td>\n",
       "    </tr>\n",
       "    <tr>\n",
       "      <th>99</th>\n",
       "      <td>2176</td>\n",
       "      <td>GT-2</td>\n",
       "      <td>3.619167</td>\n",
       "      <td>2.849612</td>\n",
       "      <td>17338.46</td>\n",
       "      <td>8607.75</td>\n",
       "      <td>-0.769555</td>\n",
       "      <td>24528.750250</td>\n",
       "      <td>31152.885177</td>\n",
       "    </tr>\n",
       "    <tr>\n",
       "      <th>382</th>\n",
       "      <td>55544</td>\n",
       "      <td>GT1</td>\n",
       "      <td>6.536667</td>\n",
       "      <td>0.559793</td>\n",
       "      <td>23213.72</td>\n",
       "      <td>35614.20</td>\n",
       "      <td>-5.976874</td>\n",
       "      <td>19936.574634</td>\n",
       "      <td>232798.154000</td>\n",
       "    </tr>\n",
       "  </tbody>\n",
       "</table>\n",
       "</div>"
      ],
      "text/plain": [
       "     ORISPL_CODE UNITID  CO2I_06_08  CO2I_15_17  gen_06_08  gen_15_17  \\\n",
       "67           399  **10B    5.404914    0.619678  321034.00  105513.54   \n",
       "99          2176   GT-2    3.619167    2.849612   17338.46    8607.75   \n",
       "382        55544    GT1    6.536667    0.559793   23213.72   35614.20   \n",
       "\n",
       "      EI_diff  CO2_15_17_actual  CO2_15_17_hypo  \n",
       "67  -4.785236      65384.454851   570291.628315  \n",
       "99  -0.769555      24528.750250    31152.885177  \n",
       "382 -5.976874      19936.574634   232798.154000  "
      ]
     },
     "execution_count": 96,
     "metadata": {},
     "output_type": "execute_result"
    }
   ],
   "source": [
    "crazies = joined[joined['CO2I_06_08'] > 3]\n",
    "crazies"
   ]
  },
  {
   "cell_type": "markdown",
   "metadata": {},
   "source": [
    "Let's eliminate these as well."
   ]
  },
  {
   "cell_type": "code",
   "execution_count": 100,
   "metadata": {},
   "outputs": [],
   "source": [
    "joined = joined[joined['CO2I_06_08'] < 3]"
   ]
  },
  {
   "cell_type": "markdown",
   "metadata": {},
   "source": [
    "##### Caclulate what emissions would have been from '15-'17"
   ]
  },
  {
   "cell_type": "code",
   "execution_count": 101,
   "metadata": {},
   "outputs": [],
   "source": [
    "joined['EI_diff'] = joined['CO2I_15_17'] - joined['CO2I_06_08']\n",
    "joined['CO2_15_17_actual'] = joined['CO2I_15_17'] * joined['gen_15_17']\n",
    "joined['CO2_15_17_hypo'] = joined['CO2I_06_08'] * joined['gen_15_17']"
   ]
  },
  {
   "cell_type": "code",
   "execution_count": 102,
   "metadata": {},
   "outputs": [
    {
     "data": {
      "text/html": [
       "<div>\n",
       "<style scoped>\n",
       "    .dataframe tbody tr th:only-of-type {\n",
       "        vertical-align: middle;\n",
       "    }\n",
       "\n",
       "    .dataframe tbody tr th {\n",
       "        vertical-align: top;\n",
       "    }\n",
       "\n",
       "    .dataframe thead th {\n",
       "        text-align: right;\n",
       "    }\n",
       "</style>\n",
       "<table border=\"1\" class=\"dataframe\">\n",
       "  <thead>\n",
       "    <tr style=\"text-align: right;\">\n",
       "      <th></th>\n",
       "      <th>ORISPL_CODE</th>\n",
       "      <th>UNITID</th>\n",
       "      <th>CO2I_06_08</th>\n",
       "      <th>CO2I_15_17</th>\n",
       "      <th>gen_06_08</th>\n",
       "      <th>gen_15_17</th>\n",
       "      <th>EI_diff</th>\n",
       "      <th>CO2_15_17_actual</th>\n",
       "      <th>CO2_15_17_hypo</th>\n",
       "    </tr>\n",
       "  </thead>\n",
       "  <tbody>\n",
       "    <tr>\n",
       "      <th>0</th>\n",
       "      <td>87</td>\n",
       "      <td>1</td>\n",
       "      <td>1.037074</td>\n",
       "      <td>1.073461</td>\n",
       "      <td>5398410.18</td>\n",
       "      <td>3656639.48</td>\n",
       "      <td>0.036387</td>\n",
       "      <td>3.925258e+06</td>\n",
       "      <td>3.792205e+06</td>\n",
       "    </tr>\n",
       "    <tr>\n",
       "      <th>1</th>\n",
       "      <td>113</td>\n",
       "      <td>1</td>\n",
       "      <td>1.122126</td>\n",
       "      <td>1.140871</td>\n",
       "      <td>2765392.93</td>\n",
       "      <td>1143207.63</td>\n",
       "      <td>0.018745</td>\n",
       "      <td>1.304252e+06</td>\n",
       "      <td>1.282823e+06</td>\n",
       "    </tr>\n",
       "    <tr>\n",
       "      <th>2</th>\n",
       "      <td>113</td>\n",
       "      <td>2</td>\n",
       "      <td>1.101016</td>\n",
       "      <td>1.089972</td>\n",
       "      <td>6683196.25</td>\n",
       "      <td>1210852.47</td>\n",
       "      <td>-0.011044</td>\n",
       "      <td>1.319795e+06</td>\n",
       "      <td>1.333167e+06</td>\n",
       "    </tr>\n",
       "    <tr>\n",
       "      <th>3</th>\n",
       "      <td>113</td>\n",
       "      <td>3</td>\n",
       "      <td>1.111009</td>\n",
       "      <td>1.118695</td>\n",
       "      <td>6785225.42</td>\n",
       "      <td>3096860.17</td>\n",
       "      <td>0.007686</td>\n",
       "      <td>3.464441e+06</td>\n",
       "      <td>3.440638e+06</td>\n",
       "    </tr>\n",
       "    <tr>\n",
       "      <th>4</th>\n",
       "      <td>113</td>\n",
       "      <td>4</td>\n",
       "      <td>1.063945</td>\n",
       "      <td>1.072063</td>\n",
       "      <td>8938559.84</td>\n",
       "      <td>6122842.37</td>\n",
       "      <td>0.008119</td>\n",
       "      <td>6.564074e+06</td>\n",
       "      <td>6.514366e+06</td>\n",
       "    </tr>\n",
       "  </tbody>\n",
       "</table>\n",
       "</div>"
      ],
      "text/plain": [
       "   ORISPL_CODE UNITID  CO2I_06_08  CO2I_15_17   gen_06_08   gen_15_17  \\\n",
       "0           87      1    1.037074    1.073461  5398410.18  3656639.48   \n",
       "1          113      1    1.122126    1.140871  2765392.93  1143207.63   \n",
       "2          113      2    1.101016    1.089972  6683196.25  1210852.47   \n",
       "3          113      3    1.111009    1.118695  6785225.42  3096860.17   \n",
       "4          113      4    1.063945    1.072063  8938559.84  6122842.37   \n",
       "\n",
       "    EI_diff  CO2_15_17_actual  CO2_15_17_hypo  \n",
       "0  0.036387      3.925258e+06    3.792205e+06  \n",
       "1  0.018745      1.304252e+06    1.282823e+06  \n",
       "2 -0.011044      1.319795e+06    1.333167e+06  \n",
       "3  0.007686      3.464441e+06    3.440638e+06  \n",
       "4  0.008119      6.564074e+06    6.514366e+06  "
      ]
     },
     "execution_count": 102,
     "metadata": {},
     "output_type": "execute_result"
    }
   ],
   "source": [
    "joined.head()"
   ]
  },
  {
   "cell_type": "markdown",
   "metadata": {},
   "source": [
    "What is the net difference in CO2?"
   ]
  },
  {
   "cell_type": "code",
   "execution_count": 103,
   "metadata": {},
   "outputs": [
    {
     "data": {
      "text/plain": [
       "-4822072.7377317855"
      ]
     },
     "execution_count": 103,
     "metadata": {},
     "output_type": "execute_result"
    }
   ],
   "source": [
    "netCO2_diff = (joined['CO2_15_17_actual'] - joined['CO2_15_17_hypo']).sum()\n",
    "netCO2_diff"
   ]
  },
  {
   "cell_type": "code",
   "execution_count": 104,
   "metadata": {},
   "outputs": [
    {
     "data": {
      "text/plain": [
       "-4822072.7377317855"
      ]
     },
     "execution_count": 104,
     "metadata": {},
     "output_type": "execute_result"
    }
   ],
   "source": [
    "netCO2_diff = (joined['EI_diff'] * joined['gen_15_17']).sum()\n",
    "netCO2_diff"
   ]
  },
  {
   "cell_type": "markdown",
   "metadata": {},
   "source": [
    "Context: What percent of total (actual) generation is that?"
   ]
  },
  {
   "cell_type": "code",
   "execution_count": 105,
   "metadata": {},
   "outputs": [
    {
     "name": "stdout",
     "output_type": "stream",
     "text": [
      "Total WI emissions:  0.6814433385958861 GT\n"
     ]
    }
   ],
   "source": [
    "totalGen_15_17 = joined['CO2_15_17_actual'].sum()\n",
    "print('Total WI emissions: ', totalGen_15_17/1e9, 'GT')"
   ]
  },
  {
   "cell_type": "code",
   "execution_count": 106,
   "metadata": {},
   "outputs": [
    {
     "data": {
      "text/plain": [
       "-0.7076263666569352"
      ]
     },
     "execution_count": 106,
     "metadata": {},
     "output_type": "execute_result"
    }
   ],
   "source": [
    "percentCO2 = 100 * (netCO2_diff / totalGen_15_17)\n",
    "percentCO2"
   ]
  },
  {
   "cell_type": "markdown",
   "metadata": {},
   "source": [
    "What's the significance of this number? CO2I actually decreased between '06-'08 and '15-'17. We saw there was little emissions overall, and the net effect was a __decrease in CO2I__, despite an __increase in power supply variability__."
   ]
  },
  {
   "cell_type": "markdown",
   "metadata": {},
   "source": [
    "A little more digestion:\n",
    "1. How many plants increased their CO2I? How many decreased?\n",
    "2. How much farther down the capacity factor scale can we hike before we see significant impacts?\n",
    "3. Did coal or gas behave differently?"
   ]
  },
  {
   "cell_type": "code",
   "execution_count": 77,
   "metadata": {},
   "outputs": [
    {
     "name": "stdout",
     "output_type": "stream",
     "text": [
      "246 plants increased their CO2I\n",
      "222 plants decreased their CO2I\n"
     ]
    }
   ],
   "source": [
    "nIncreased = (joined['EI_diff'] > 0).sum()\n",
    "print(nIncreased, 'plants increased their CO2I')\n",
    "print(joined.shape[0] - nIncreased, 'plants decreased their CO2I')"
   ]
  },
  {
   "cell_type": "code",
   "execution_count": null,
   "metadata": {},
   "outputs": [],
   "source": []
  }
 ],
 "metadata": {
  "kernelspec": {
   "display_name": "Python 3",
   "language": "python",
   "name": "python3"
  },
  "language_info": {
   "codemirror_mode": {
    "name": "ipython",
    "version": 3
   },
   "file_extension": ".py",
   "mimetype": "text/x-python",
   "name": "python",
   "nbconvert_exporter": "python",
   "pygments_lexer": "ipython3",
   "version": "3.6.5"
  }
 },
 "nbformat": 4,
 "nbformat_minor": 2
}
